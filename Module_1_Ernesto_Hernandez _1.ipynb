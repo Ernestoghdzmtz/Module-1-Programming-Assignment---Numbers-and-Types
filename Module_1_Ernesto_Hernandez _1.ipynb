{
 "cells": [
  {
   "cell_type": "code",
   "execution_count": 2,
   "id": "69939ccc-a3b9-4f21-9dd7-efe1100961c3",
   "metadata": {},
   "outputs": [
    {
     "name": "stdout",
     "output_type": "stream",
     "text": [
      "First Python Program...\n"
     ]
    }
   ],
   "source": [
    "print(\"First Python Program...\")"
   ]
  },
  {
   "cell_type": "code",
   "execution_count": 30,
   "id": "73b05bab-8bf2-4519-8a07-f6598f94cb3b",
   "metadata": {},
   "outputs": [
    {
     "data": {
      "text/plain": [
       "3600"
      ]
     },
     "execution_count": 30,
     "metadata": {},
     "output_type": "execute_result"
    }
   ],
   "source": [
    "60*60"
   ]
  },
  {
   "cell_type": "code",
   "execution_count": 32,
   "id": "866e2a57-cabc-432b-964d-a07f04ee9ca3",
   "metadata": {},
   "outputs": [],
   "source": [
    "seconds_per_hour = 60*60"
   ]
  },
  {
   "cell_type": "code",
   "execution_count": 34,
   "id": "5079d8e4-a740-4a7b-9b54-85180416423f",
   "metadata": {},
   "outputs": [],
   "source": [
    "seconds_per_day = seconds_per_hour * 24"
   ]
  },
  {
   "cell_type": "code",
   "execution_count": 36,
   "id": "5ee24f1e-d828-4dcb-9f49-5d9e1002da3d",
   "metadata": {},
   "outputs": [
    {
     "name": "stdout",
     "output_type": "stream",
     "text": [
      "Seconds per day: 86400\n"
     ]
    }
   ],
   "source": [
    "print(\"Seconds per day:\", seconds_per_day)"
   ]
  },
  {
   "cell_type": "code",
   "execution_count": 38,
   "id": "9ce91f58-7d9d-4914-a5ea-1e4679e6e349",
   "metadata": {},
   "outputs": [
    {
     "name": "stdout",
     "output_type": "stream",
     "text": [
      "Division (floating-point): 24.0\n",
      "Division (integer): 24\n"
     ]
    }
   ],
   "source": [
    "floating_point_division = seconds_per_day / seconds_per_hour\n",
    "print(\"Division (floating-point):\", floating_point_division)\n",
    "integer_division = seconds_per_day // seconds_per_hour\n",
    "print(\"Division (integer):\", integer_division)"
   ]
  },
  {
   "cell_type": "code",
   "execution_count": null,
   "id": "98ea9b77-da94-452c-99ac-1764f4227a67",
   "metadata": {},
   "outputs": [],
   "source": []
  }
 ],
 "metadata": {
  "kernelspec": {
   "display_name": "Python 3 (ipykernel)",
   "language": "python",
   "name": "python3"
  },
  "language_info": {
   "codemirror_mode": {
    "name": "ipython",
    "version": 3
   },
   "file_extension": ".py",
   "mimetype": "text/x-python",
   "name": "python",
   "nbconvert_exporter": "python",
   "pygments_lexer": "ipython3",
   "version": "3.12.7"
  }
 },
 "nbformat": 4,
 "nbformat_minor": 5
}
